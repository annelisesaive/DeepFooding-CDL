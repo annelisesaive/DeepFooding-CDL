{
 "cells": [
  {
   "cell_type": "code",
   "execution_count": 1,
   "id": "33c3a5af",
   "metadata": {},
   "outputs": [
    {
     "name": "stdout",
     "output_type": "stream",
     "text": [
      "video processed >> 03C01004.AVI\n",
      "video SAVED >> 03c01004.mp4\n",
      "video processed >> 04C01002.AVI\n",
      "video SAVED >> 04c01002.mp4\n"
     ]
    }
   ],
   "source": [
    "\"\"\"\"\n",
    "Python script, which convert mov & avi videos to mp4 format\n",
    "\n",
    "Note : in my example my DB is a folder with 2 AVI videos\n",
    "\"\"\"\n",
    "\n",
    "import subprocess\n",
    "import os\n",
    "\n",
    "#path of the video database (db)\n",
    "db_path = r'C:\\Users\\Anne-Lise\\Dropbox\\Bocuse_projects\\03_DeepFooding\\DB_videos\\full_length' \n",
    "#path to initial videos (avi format in your case)\n",
    "src_video_path = os.path.join(db_path,'avi_videos')\n",
    "#path to output videos (mp4 format in your case)\n",
    "out_video_path = os.path.join(db_path,'mp4_videos')\n",
    "\n",
    "# IF you have multiple folders to go through USE THIS \n",
    "#for db_path, dirs, filenames in os.walk(db_path, topdown=False):\n",
    "#    for f in filenames: (carreful with indentation here)\n",
    "\n",
    "# ELSE just loop through videos in a repo USING THIS\n",
    "for f in os.listdir(src_video_path):\n",
    "    print('video processed >>',f)\n",
    "    try:\n",
    "        _format = ''\n",
    "        if \".avi\" in f.lower():\n",
    "            _format=\".avi\"\n",
    "        if \".mov\" in f.lower():\n",
    "            _format=\".mov\" #other format in the IPB db\n",
    "\n",
    "        input_f = os.path.join(db_path, f)\n",
    "        f_out = f.lower().replace(_format, \".mp4\")\n",
    "        output_f = os.path.join(out_video_path,f_out)\n",
    "        print('video SAVED >>',f_out)\n",
    "        subprocess.call(['ffmpeg', '-i', input_f, '-c:v', 'copy', 'c:a', 'copy', '-y',output_f])\n",
    "    except:\n",
    "        print(\"An exception occurred\")\n"
   ]
  }
 ],
 "metadata": {
  "kernelspec": {
   "display_name": "Python [conda env:DEEPLABCUT] *",
   "language": "python",
   "name": "conda-env-DEEPLABCUT-py"
  },
  "language_info": {
   "codemirror_mode": {
    "name": "ipython",
    "version": 3
   },
   "file_extension": ".py",
   "mimetype": "text/x-python",
   "name": "python",
   "nbconvert_exporter": "python",
   "pygments_lexer": "ipython3",
   "version": "3.8.12"
  }
 },
 "nbformat": 4,
 "nbformat_minor": 5
}
